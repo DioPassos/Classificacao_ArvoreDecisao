{
 "cells": [
  {
   "cell_type": "code",
   "execution_count": 1,
   "metadata": {},
   "outputs": [],
   "source": [
    "import pandas as pd\n",
    "import numpy as np\n",
    "import matplotlib.pyplot as plt\n",
    "dados= pd.read_excel('Analise_ABC.xlsx')"
   ]
  },
  {
   "cell_type": "code",
   "execution_count": 2,
   "metadata": {},
   "outputs": [
    {
     "data": {
      "text/html": [
       "<div>\n",
       "<style scoped>\n",
       "    .dataframe tbody tr th:only-of-type {\n",
       "        vertical-align: middle;\n",
       "    }\n",
       "\n",
       "    .dataframe tbody tr th {\n",
       "        vertical-align: top;\n",
       "    }\n",
       "\n",
       "    .dataframe thead th {\n",
       "        text-align: right;\n",
       "    }\n",
       "</style>\n",
       "<table border=\"1\" class=\"dataframe\">\n",
       "  <thead>\n",
       "    <tr style=\"text-align: right;\">\n",
       "      <th></th>\n",
       "      <th>Código</th>\n",
       "      <th>Consumo</th>\n",
       "      <th>Movimentação</th>\n",
       "      <th>Custo Unitário (R$)</th>\n",
       "      <th>valor Total(R$)</th>\n",
       "      <th>ABC</th>\n",
       "    </tr>\n",
       "  </thead>\n",
       "  <tbody>\n",
       "    <tr>\n",
       "      <th>0</th>\n",
       "      <td>1000006</td>\n",
       "      <td>181.0</td>\n",
       "      <td>134</td>\n",
       "      <td>2766.339724</td>\n",
       "      <td>500707.49</td>\n",
       "      <td>A</td>\n",
       "    </tr>\n",
       "    <tr>\n",
       "      <th>1</th>\n",
       "      <td>1000007</td>\n",
       "      <td>46.0</td>\n",
       "      <td>2</td>\n",
       "      <td>8903.648261</td>\n",
       "      <td>409567.82</td>\n",
       "      <td>A</td>\n",
       "    </tr>\n",
       "    <tr>\n",
       "      <th>2</th>\n",
       "      <td>1000008</td>\n",
       "      <td>2211.3</td>\n",
       "      <td>125</td>\n",
       "      <td>160.050405</td>\n",
       "      <td>353919.46</td>\n",
       "      <td>A</td>\n",
       "    </tr>\n",
       "    <tr>\n",
       "      <th>3</th>\n",
       "      <td>1000009</td>\n",
       "      <td>52.0</td>\n",
       "      <td>13</td>\n",
       "      <td>6339.953269</td>\n",
       "      <td>329677.57</td>\n",
       "      <td>A</td>\n",
       "    </tr>\n",
       "    <tr>\n",
       "      <th>4</th>\n",
       "      <td>1000017</td>\n",
       "      <td>443.0</td>\n",
       "      <td>32</td>\n",
       "      <td>642.746050</td>\n",
       "      <td>284736.50</td>\n",
       "      <td>A</td>\n",
       "    </tr>\n",
       "    <tr>\n",
       "      <th>...</th>\n",
       "      <td>...</td>\n",
       "      <td>...</td>\n",
       "      <td>...</td>\n",
       "      <td>...</td>\n",
       "      <td>...</td>\n",
       "      <td>...</td>\n",
       "    </tr>\n",
       "    <tr>\n",
       "      <th>7150</th>\n",
       "      <td>1032973</td>\n",
       "      <td>1.0</td>\n",
       "      <td>1</td>\n",
       "      <td>0.010000</td>\n",
       "      <td>0.01</td>\n",
       "      <td>C</td>\n",
       "    </tr>\n",
       "    <tr>\n",
       "      <th>7151</th>\n",
       "      <td>1032974</td>\n",
       "      <td>1.0</td>\n",
       "      <td>1</td>\n",
       "      <td>0.010000</td>\n",
       "      <td>0.01</td>\n",
       "      <td>C</td>\n",
       "    </tr>\n",
       "    <tr>\n",
       "      <th>7152</th>\n",
       "      <td>1032975</td>\n",
       "      <td>1.0</td>\n",
       "      <td>1</td>\n",
       "      <td>0.010000</td>\n",
       "      <td>0.01</td>\n",
       "      <td>C</td>\n",
       "    </tr>\n",
       "    <tr>\n",
       "      <th>7153</th>\n",
       "      <td>1032980</td>\n",
       "      <td>1.0</td>\n",
       "      <td>1</td>\n",
       "      <td>0.010000</td>\n",
       "      <td>0.01</td>\n",
       "      <td>C</td>\n",
       "    </tr>\n",
       "    <tr>\n",
       "      <th>7154</th>\n",
       "      <td>1032981</td>\n",
       "      <td>1.0</td>\n",
       "      <td>1</td>\n",
       "      <td>0.010000</td>\n",
       "      <td>0.01</td>\n",
       "      <td>C</td>\n",
       "    </tr>\n",
       "  </tbody>\n",
       "</table>\n",
       "<p>7155 rows × 6 columns</p>\n",
       "</div>"
      ],
      "text/plain": [
       "       Código  Consumo  Movimentação  Custo Unitário (R$)  valor Total(R$) ABC\n",
       "0     1000006    181.0           134          2766.339724        500707.49   A\n",
       "1     1000007     46.0             2          8903.648261        409567.82   A\n",
       "2     1000008   2211.3           125           160.050405        353919.46   A\n",
       "3     1000009     52.0            13          6339.953269        329677.57   A\n",
       "4     1000017    443.0            32           642.746050        284736.50   A\n",
       "...       ...      ...           ...                  ...              ...  ..\n",
       "7150  1032973      1.0             1             0.010000             0.01   C\n",
       "7151  1032974      1.0             1             0.010000             0.01   C\n",
       "7152  1032975      1.0             1             0.010000             0.01   C\n",
       "7153  1032980      1.0             1             0.010000             0.01   C\n",
       "7154  1032981      1.0             1             0.010000             0.01   C\n",
       "\n",
       "[7155 rows x 6 columns]"
      ]
     },
     "execution_count": 2,
     "metadata": {},
     "output_type": "execute_result"
    }
   ],
   "source": [
    "dados"
   ]
  },
  {
   "cell_type": "code",
   "execution_count": 3,
   "metadata": {},
   "outputs": [
    {
     "name": "stdout",
     "output_type": "stream",
     "text": [
      "<class 'pandas.core.frame.DataFrame'>\n",
      "RangeIndex: 7155 entries, 0 to 7154\n",
      "Data columns (total 6 columns):\n",
      " #   Column               Non-Null Count  Dtype  \n",
      "---  ------               --------------  -----  \n",
      " 0   Código               7155 non-null   int64  \n",
      " 1   Consumo              7155 non-null   float64\n",
      " 2   Movimentação         7155 non-null   int64  \n",
      " 3   Custo Unitário (R$)  7155 non-null   float64\n",
      " 4   valor Total(R$)      7155 non-null   float64\n",
      " 5   ABC                  7155 non-null   object \n",
      "dtypes: float64(3), int64(2), object(1)\n",
      "memory usage: 335.5+ KB\n"
     ]
    }
   ],
   "source": [
    "dados.info()"
   ]
  },
  {
   "cell_type": "code",
   "execution_count": 4,
   "metadata": {},
   "outputs": [
    {
     "data": {
      "text/plain": [
       "Index(['Código', 'Consumo', 'Movimentação', 'Custo Unitário (R$)',\n",
       "       'valor Total(R$)', 'ABC'],\n",
       "      dtype='object')"
      ]
     },
     "execution_count": 4,
     "metadata": {},
     "output_type": "execute_result"
    }
   ],
   "source": [
    "dados.columns"
   ]
  },
  {
   "cell_type": "code",
   "execution_count": 5,
   "metadata": {},
   "outputs": [],
   "source": [
    "# definindo a coluna ABC valores red para 0,1,2 p/enxergar um valor numerico e não uma String\n",
    "dados['ABC']=dados['ABC'].replace('A', 0)"
   ]
  },
  {
   "cell_type": "code",
   "execution_count": 6,
   "metadata": {},
   "outputs": [],
   "source": [
    "dados['ABC']=dados['ABC'].replace('B', 1)"
   ]
  },
  {
   "cell_type": "code",
   "execution_count": 7,
   "metadata": {},
   "outputs": [],
   "source": [
    "dados['ABC']=dados['ABC'].replace('C', 2)"
   ]
  },
  {
   "cell_type": "code",
   "execution_count": 8,
   "metadata": {},
   "outputs": [],
   "source": [
    "#separando as variáveis entre preditoras e alvo com o cod abaixo remove coluna ABC do dataset e\n",
    "#adiciona ela na variavel y, o resto do data setfica em x exceto y (dados.drop \" remova quem?..\"ABC\")\n",
    "y = dados['ABC']\n",
    "x= dados.drop('ABC',axis =1)"
   ]
  },
  {
   "cell_type": "code",
   "execution_count": 9,
   "metadata": {},
   "outputs": [
    {
     "data": {
      "text/plain": [
       "0    0\n",
       "1    0\n",
       "2    0\n",
       "3    0\n",
       "4    0\n",
       "Name: ABC, dtype: int64"
      ]
     },
     "execution_count": 9,
     "metadata": {},
     "output_type": "execute_result"
    }
   ],
   "source": [
    "#apenas Y, antes a coluna ABC\n",
    "y.head()"
   ]
  },
  {
   "cell_type": "code",
   "execution_count": 10,
   "metadata": {},
   "outputs": [
    {
     "data": {
      "text/html": [
       "<div>\n",
       "<style scoped>\n",
       "    .dataframe tbody tr th:only-of-type {\n",
       "        vertical-align: middle;\n",
       "    }\n",
       "\n",
       "    .dataframe tbody tr th {\n",
       "        vertical-align: top;\n",
       "    }\n",
       "\n",
       "    .dataframe thead th {\n",
       "        text-align: right;\n",
       "    }\n",
       "</style>\n",
       "<table border=\"1\" class=\"dataframe\">\n",
       "  <thead>\n",
       "    <tr style=\"text-align: right;\">\n",
       "      <th></th>\n",
       "      <th>Código</th>\n",
       "      <th>Consumo</th>\n",
       "      <th>Movimentação</th>\n",
       "      <th>Custo Unitário (R$)</th>\n",
       "      <th>valor Total(R$)</th>\n",
       "    </tr>\n",
       "  </thead>\n",
       "  <tbody>\n",
       "    <tr>\n",
       "      <th>0</th>\n",
       "      <td>1000006</td>\n",
       "      <td>181.0</td>\n",
       "      <td>134</td>\n",
       "      <td>2766.339724</td>\n",
       "      <td>500707.49</td>\n",
       "    </tr>\n",
       "    <tr>\n",
       "      <th>1</th>\n",
       "      <td>1000007</td>\n",
       "      <td>46.0</td>\n",
       "      <td>2</td>\n",
       "      <td>8903.648261</td>\n",
       "      <td>409567.82</td>\n",
       "    </tr>\n",
       "    <tr>\n",
       "      <th>2</th>\n",
       "      <td>1000008</td>\n",
       "      <td>2211.3</td>\n",
       "      <td>125</td>\n",
       "      <td>160.050405</td>\n",
       "      <td>353919.46</td>\n",
       "    </tr>\n",
       "    <tr>\n",
       "      <th>3</th>\n",
       "      <td>1000009</td>\n",
       "      <td>52.0</td>\n",
       "      <td>13</td>\n",
       "      <td>6339.953269</td>\n",
       "      <td>329677.57</td>\n",
       "    </tr>\n",
       "    <tr>\n",
       "      <th>4</th>\n",
       "      <td>1000017</td>\n",
       "      <td>443.0</td>\n",
       "      <td>32</td>\n",
       "      <td>642.746050</td>\n",
       "      <td>284736.50</td>\n",
       "    </tr>\n",
       "  </tbody>\n",
       "</table>\n",
       "</div>"
      ],
      "text/plain": [
       "    Código  Consumo  Movimentação  Custo Unitário (R$)  valor Total(R$)\n",
       "0  1000006    181.0           134          2766.339724        500707.49\n",
       "1  1000007     46.0             2          8903.648261        409567.82\n",
       "2  1000008   2211.3           125           160.050405        353919.46\n",
       "3  1000009     52.0            13          6339.953269        329677.57\n",
       "4  1000017    443.0            32           642.746050        284736.50"
      ]
     },
     "execution_count": 10,
     "metadata": {},
     "output_type": "execute_result"
    }
   ],
   "source": [
    "x.head()\n"
   ]
  },
  {
   "cell_type": "code",
   "execution_count": 11,
   "metadata": {},
   "outputs": [],
   "source": [
    "from sklearn.model_selection import train_test_split\n",
    "#criando o conjunto de dados para treino e teste observar que do total de X teremos 30%\n",
    "x_treino, x_teste, y_treino , y_teste =train_test_split(x,y, test_size =0.2)"
   ]
  },
  {
   "cell_type": "code",
   "execution_count": 12,
   "metadata": {},
   "outputs": [
    {
     "data": {
      "text/plain": [
       "(7155, 5)"
      ]
     },
     "execution_count": 12,
     "metadata": {},
     "output_type": "execute_result"
    }
   ],
   "source": [
    "#valores totais linhas \n",
    "x.shape"
   ]
  },
  {
   "cell_type": "code",
   "execution_count": 13,
   "metadata": {},
   "outputs": [
    {
     "data": {
      "text/plain": [
       "(7155,)"
      ]
     },
     "execution_count": 13,
     "metadata": {},
     "output_type": "execute_result"
    }
   ],
   "source": [
    "y.shape\n"
   ]
  },
  {
   "cell_type": "code",
   "execution_count": 14,
   "metadata": {},
   "outputs": [
    {
     "data": {
      "text/plain": [
       "(5724, 5)"
      ]
     },
     "execution_count": 14,
     "metadata": {},
     "output_type": "execute_result"
    }
   ],
   "source": [
    "#quantidade de linhas de x removendo a parte de treino o mesmo se aplica para y\n",
    "x_treino.shape"
   ]
  },
  {
   "cell_type": "code",
   "execution_count": 15,
   "metadata": {},
   "outputs": [
    {
     "name": "stdout",
     "output_type": "stream",
     "text": [
      "Acurácia: 1.0\n"
     ]
    }
   ],
   "source": [
    "#ExtraTreesClassifier é um algoritimo de ML que ira usar os dados de \n",
    "#treino acima definodos\n",
    "from sklearn.ensemble import ExtraTreesClassifier\n",
    "#Criando o Modelo\n",
    "modelo =ExtraTreesClassifier()\n",
    "modelo.fit(x_treino,y_treino)\n",
    "\n",
    "#imprimindo resultado:\n",
    "resultado =modelo.score(x_teste,y_teste)\n",
    "print('Acurácia:',resultado)"
   ]
  },
  {
   "cell_type": "code",
   "execution_count": 17,
   "metadata": {},
   "outputs": [],
   "source": [
    "#AVALIÇÃO DA MÁQUINA \n",
    "\n",
    "#from sklearn.metrics import confusion_matrix\n",
    "#print(confusion_matrix(y_teste,y_treino))"
   ]
  },
  {
   "cell_type": "code",
   "execution_count": 18,
   "metadata": {},
   "outputs": [
    {
     "data": {
      "text/plain": [
       "5211    2\n",
       "1142    1\n",
       "1390    2\n",
       "6975    2\n",
       "1055    1\n",
       "       ..\n",
       "3527    2\n",
       "2930    2\n",
       "1380    2\n",
       "6934    2\n",
       "5591    2\n",
       "Name: ABC, Length: 1431, dtype: int64"
      ]
     },
     "execution_count": 18,
     "metadata": {},
     "output_type": "execute_result"
    }
   ],
   "source": [
    "y_teste"
   ]
  },
  {
   "cell_type": "code",
   "execution_count": 19,
   "metadata": {},
   "outputs": [
    {
     "data": {
      "text/html": [
       "<div>\n",
       "<style scoped>\n",
       "    .dataframe tbody tr th:only-of-type {\n",
       "        vertical-align: middle;\n",
       "    }\n",
       "\n",
       "    .dataframe tbody tr th {\n",
       "        vertical-align: top;\n",
       "    }\n",
       "\n",
       "    .dataframe thead th {\n",
       "        text-align: right;\n",
       "    }\n",
       "</style>\n",
       "<table border=\"1\" class=\"dataframe\">\n",
       "  <thead>\n",
       "    <tr style=\"text-align: right;\">\n",
       "      <th></th>\n",
       "      <th>Código</th>\n",
       "      <th>Consumo</th>\n",
       "      <th>Movimentação</th>\n",
       "      <th>Custo Unitário (R$)</th>\n",
       "      <th>valor Total(R$)</th>\n",
       "    </tr>\n",
       "  </thead>\n",
       "  <tbody>\n",
       "    <tr>\n",
       "      <th>6886</th>\n",
       "      <td>1032261</td>\n",
       "      <td>1.0</td>\n",
       "      <td>1</td>\n",
       "      <td>6.050000</td>\n",
       "      <td>6.05</td>\n",
       "    </tr>\n",
       "    <tr>\n",
       "      <th>1303</th>\n",
       "      <td>1004350</td>\n",
       "      <td>11.0</td>\n",
       "      <td>11</td>\n",
       "      <td>419.155455</td>\n",
       "      <td>4610.71</td>\n",
       "    </tr>\n",
       "    <tr>\n",
       "      <th>5156</th>\n",
       "      <td>1023443</td>\n",
       "      <td>7.0</td>\n",
       "      <td>5</td>\n",
       "      <td>22.325714</td>\n",
       "      <td>156.28</td>\n",
       "    </tr>\n",
       "    <tr>\n",
       "      <th>1714</th>\n",
       "      <td>1006582</td>\n",
       "      <td>42.0</td>\n",
       "      <td>5</td>\n",
       "      <td>74.637381</td>\n",
       "      <td>3134.77</td>\n",
       "    </tr>\n",
       "    <tr>\n",
       "      <th>6591</th>\n",
       "      <td>1031110</td>\n",
       "      <td>6.0</td>\n",
       "      <td>4</td>\n",
       "      <td>2.683333</td>\n",
       "      <td>16.10</td>\n",
       "    </tr>\n",
       "    <tr>\n",
       "      <th>6287</th>\n",
       "      <td>1029661</td>\n",
       "      <td>1.0</td>\n",
       "      <td>1</td>\n",
       "      <td>31.760000</td>\n",
       "      <td>31.76</td>\n",
       "    </tr>\n",
       "    <tr>\n",
       "      <th>2587</th>\n",
       "      <td>1011497</td>\n",
       "      <td>2.0</td>\n",
       "      <td>2</td>\n",
       "      <td>740.490000</td>\n",
       "      <td>1480.98</td>\n",
       "    </tr>\n",
       "    <tr>\n",
       "      <th>5908</th>\n",
       "      <td>1027810</td>\n",
       "      <td>1.0</td>\n",
       "      <td>1</td>\n",
       "      <td>61.840000</td>\n",
       "      <td>61.84</td>\n",
       "    </tr>\n",
       "    <tr>\n",
       "      <th>5185</th>\n",
       "      <td>1023536</td>\n",
       "      <td>13.0</td>\n",
       "      <td>5</td>\n",
       "      <td>11.546154</td>\n",
       "      <td>150.10</td>\n",
       "    </tr>\n",
       "    <tr>\n",
       "      <th>7026</th>\n",
       "      <td>1032601</td>\n",
       "      <td>6.0</td>\n",
       "      <td>1</td>\n",
       "      <td>0.345000</td>\n",
       "      <td>2.07</td>\n",
       "    </tr>\n",
       "  </tbody>\n",
       "</table>\n",
       "</div>"
      ],
      "text/plain": [
       "       Código  Consumo  Movimentação  Custo Unitário (R$)  valor Total(R$)\n",
       "6886  1032261      1.0             1             6.050000             6.05\n",
       "1303  1004350     11.0            11           419.155455          4610.71\n",
       "5156  1023443      7.0             5            22.325714           156.28\n",
       "1714  1006582     42.0             5            74.637381          3134.77\n",
       "6591  1031110      6.0             4             2.683333            16.10\n",
       "6287  1029661      1.0             1            31.760000            31.76\n",
       "2587  1011497      2.0             2           740.490000          1480.98\n",
       "5908  1027810      1.0             1            61.840000            61.84\n",
       "5185  1023536     13.0             5            11.546154           150.10\n",
       "7026  1032601      6.0             1             0.345000             2.07"
      ]
     },
     "execution_count": 19,
     "metadata": {},
     "output_type": "execute_result"
    }
   ],
   "source": [
    "x_teste[100:110]"
   ]
  },
  {
   "cell_type": "code",
   "execution_count": 20,
   "metadata": {},
   "outputs": [],
   "source": [
    "previsao= modelo.predict(x_teste[60:70])"
   ]
  },
  {
   "cell_type": "code",
   "execution_count": 21,
   "metadata": {},
   "outputs": [
    {
     "data": {
      "text/plain": [
       "array([2, 2, 2, 2, 2, 2, 2, 2, 2, 2], dtype=int64)"
      ]
     },
     "execution_count": 21,
     "metadata": {},
     "output_type": "execute_result"
    }
   ],
   "source": [
    "previsao"
   ]
  },
  {
   "cell_type": "code",
   "execution_count": null,
   "metadata": {},
   "outputs": [],
   "source": []
  }
 ],
 "metadata": {
  "kernelspec": {
   "display_name": "Python 3",
   "language": "python",
   "name": "python3"
  },
  "language_info": {
   "codemirror_mode": {
    "name": "ipython",
    "version": 3
   },
   "file_extension": ".py",
   "mimetype": "text/x-python",
   "name": "python",
   "nbconvert_exporter": "python",
   "pygments_lexer": "ipython3",
   "version": "3.8.5"
  }
 },
 "nbformat": 4,
 "nbformat_minor": 4
}
